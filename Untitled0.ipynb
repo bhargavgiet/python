{
  "nbformat": 4,
  "nbformat_minor": 0,
  "metadata": {
    "colab": {
      "name": "Untitled0.ipynb",
      "provenance": [],
      "collapsed_sections": [],
      "authorship_tag": "ABX9TyMsDKlwmninhZnqA18X3o1U",
      "include_colab_link": true
    },
    "kernelspec": {
      "name": "python3",
      "display_name": "Python 3"
    }
  },
  "cells": [
    {
      "cell_type": "markdown",
      "metadata": {
        "id": "view-in-github",
        "colab_type": "text"
      },
      "source": [
        "<a href=\"https://colab.research.google.com/github/bhargavgiet/python/blob/main/Untitled0.ipynb\" target=\"_parent\"><img src=\"https://colab.research.google.com/assets/colab-badge.svg\" alt=\"Open In Colab\"/></a>"
      ]
    },
    {
      "cell_type": "code",
      "metadata": {
        "id": "TdzJqIkZaTn1",
        "colab": {
          "base_uri": "https://localhost:8080/"
        },
        "outputId": "b839bd69-e81b-4acd-a0bd-967890f7944c"
      },
      "source": [
        "print('hello,world!')\r\n",
        "print('my name is BallaBhargav')\r\n",
        "print('my age is 19')\r\n"
      ],
      "execution_count": 1,
      "outputs": [
        {
          "output_type": "stream",
          "text": [
            "hello,world!\n",
            "my name is BallaBhargav\n",
            "my age is 19\n"
          ],
          "name": "stdout"
        }
      ]
    },
    {
      "cell_type": "code",
      "metadata": {
        "colab": {
          "base_uri": "https://localhost:8080/"
        },
        "id": "GbmK3sqvkuIB",
        "outputId": "b22de51b-3096-489b-fde2-b8767bedea2e"
      },
      "source": [
        "#1\r\n",
        "s1 = float(input(\"Enter the first side of the triangle : \"))\r\n",
        "s2 = float(input(\"Enter the second side of the triangle : \"))\r\n",
        "s3 = float(input(\"Enter the third side of the triangle : \"))\r\n",
        "\r\n",
        "#2\r\n",
        "p = (s1 + s2 + s3)\r\n",
        "\r\n",
        "#3\r\n",
        "s = p/2\r\n",
        "\r\n",
        "#4\r\n",
        "area = (s * (s-s1) * (s-s2)*(s-s3))**0.5\r\n",
        "\r\n",
        "#5\r\n",
        "print(\"The perimeter of the triangle is : {0:.2f}\".format(p))\r\n",
        "print(\"The area of the triangle is : {0:.2f}\".format(area))\r\n"
      ],
      "execution_count": 2,
      "outputs": [
        {
          "output_type": "stream",
          "text": [
            "Enter the first side of the triangle : 3\n",
            "Enter the second side of the triangle : 3\n",
            "Enter the third side of the triangle : 3\n",
            "The perimeter of the triangle is : 9.00\n",
            "The area of the triangle is : 3.90\n"
          ],
          "name": "stdout"
        }
      ]
    },
    {
      "cell_type": "code",
      "metadata": {
        "colab": {
          "base_uri": "https://localhost:8080/"
        },
        "id": "FlSRMvQknv86",
        "outputId": "6b1d1847-1164-475e-b1e8-39a6847403ea"
      },
      "source": [
        "print(\"Enter Marks Obtained in 3 Subjects: \")\r\n",
        "mOne = int(input())\r\n",
        "mTwo = int(input())\r\n",
        "mThree = int(input())\r\n",
        "sum = mOne+mTwo+mThree\r\n",
        "avg = sum/5\r\n",
        "perc = (sum/500)*100\r\n",
        "\r\n",
        "print(end=\"Average Mark = \")\r\n",
        "print(avg)\r\n",
        "print(end=\"Percentage Mark = \")\r\n",
        "print(perc)\r\n"
      ],
      "execution_count": 4,
      "outputs": [
        {
          "output_type": "stream",
          "text": [
            "Enter Marks Obtained in 3 Subjects: \n",
            "32\n",
            "32\n",
            "32\n",
            "Average Mark = 19.2\n",
            "Percentage Mark = 19.2\n"
          ],
          "name": "stdout"
        }
      ]
    },
    {
      "cell_type": "code",
      "metadata": {
        "id": "RlW3KI-uoEkn"
      },
      "source": [
        "\r\n",
        "PI = 3.14\r\n",
        "radius = float(input(' Please Enter the radius of a circle: '))\r\n",
        "area = PI * radius * radius\r\n",
        "\r\n",
        "\r\n",
        "print(\" Area Of a Circle = %.2f\" %area)\r\n",
        "\r\n"
      ],
      "execution_count": null,
      "outputs": []
    },
    {
      "cell_type": "code",
      "metadata": {
        "id": "_xk0phyhoEoN"
      },
      "source": [
        "import math\r\n",
        "\r\n",
        "radius = input(\"Enter Radius: \")\r\n",
        "print(\"Radius: \" + str(radius))\r\n",
        "\r\n",
        "r = float(radius)\r\n",
        "\r\n",
        "volume = 4.0/3.0 * math.pi * (r*r*r)\r\n",
        "print(\"Volume: \" + str(round(volume,2)))"
      ],
      "execution_count": null,
      "outputs": []
    },
    {
      "cell_type": "code",
      "metadata": {
        "id": "sDFETlgjoErF"
      },
      "source": [
        "fruits=['apples','oranges','bananas','mangoes','grapes','strawberry']\r\n",
        " print(fruits[1:4])"
      ],
      "execution_count": null,
      "outputs": []
    },
    {
      "cell_type": "code",
      "metadata": {
        "id": "fTnPkUtRoEuJ"
      },
      "source": [
        ""
      ],
      "execution_count": null,
      "outputs": []
    },
    {
      "cell_type": "code",
      "metadata": {
        "id": "MzMDHq8soEw2"
      },
      "source": [
        ""
      ],
      "execution_count": null,
      "outputs": []
    }
  ]
}