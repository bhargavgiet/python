{
  "nbformat": 4,
  "nbformat_minor": 0,
  "metadata": {
    "colab": {
      "name": "Untitled0.ipynb",
      "provenance": [],
      "collapsed_sections": []
    },
    "kernelspec": {
      "name": "python3",
      "display_name": "Python 3"
    }
  },
  "cells": [
    {
      "cell_type": "code",
      "metadata": {
        "id": "TdzJqIkZaTn1",
        "colab": {
          "base_uri": "https://localhost:8080/"
        },
        "outputId": "b839bd69-e81b-4acd-a0bd-967890f7944c"
      },
      "source": [
        "print('hello,world!')\r\n",
        "print('my name is BallaBhargav')\r\n",
        "print('my age is 19')\r\n"
      ],
      "execution_count": 1,
      "outputs": [
        {
          "output_type": "stream",
          "text": [
            "hello,world!\n",
            "my name is BallaBhargav\n",
            "my age is 19\n"
          ],
          "name": "stdout"
        }
      ]
    }
  ]
}